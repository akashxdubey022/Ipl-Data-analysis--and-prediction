{
 "cells": [
  {
   "cell_type": "code",
   "execution_count": 1,
   "id": "8561d62b",
   "metadata": {
    "_cell_guid": "b1076dfc-b9ad-4769-8c92-a6c4dae69d19",
    "_uuid": "8f2839f25d086af736a60e9eeb907d3b93b6e0e5",
    "execution": {
     "iopub.execute_input": "2023-05-08T12:46:19.739826Z",
     "iopub.status.busy": "2023-05-08T12:46:19.739489Z",
     "iopub.status.idle": "2023-05-08T12:46:19.756944Z",
     "shell.execute_reply": "2023-05-08T12:46:19.756079Z"
    },
    "papermill": {
     "duration": 0.029363,
     "end_time": "2023-05-08T12:46:19.758911",
     "exception": false,
     "start_time": "2023-05-08T12:46:19.729548",
     "status": "completed"
    },
    "tags": []
   },
   "outputs": [
    {
     "name": "stdout",
     "output_type": "stream",
     "text": [
      "/kaggle/input/complete-ipl-dataset-2008-2022/ipl_dataset.csv\n"
     ]
    }
   ],
   "source": [
    "# This Python 3 environment comes with many helpful analytics libraries installed\n",
    "# It is defined by the kaggle/python Docker image: https://github.com/kaggle/docker-python\n",
    "# For example, here's several helpful packages to load\n",
    "\n",
    "import numpy as np # linear algebra\n",
    "import pandas as pd # data processing, CSV file I/O (e.g. pd.read_csv)\n",
    "\n",
    "# Input data files are available in the read-only \"../input/\" directory\n",
    "# For example, running this (by clicking run or pressing Shift+Enter) will list all files under the input directory\n",
    "\n",
    "import os\n",
    "for dirname, _, filenames in os.walk('/kaggle/input'):\n",
    "    for filename in filenames:\n",
    "        print(os.path.join(dirname, filename))\n",
    "\n",
    "# You can write up to 20GB to the current directory (/kaggle/working/) that gets preserved as output when you create a version using \"Save & Run All\" \n",
    "# You can also write temporary files to /kaggle/temp/, but they won't be saved outside of the current session"
   ]
  },
  {
   "cell_type": "markdown",
   "id": "0657b37b",
   "metadata": {
    "papermill": {
     "duration": 0.007569,
     "end_time": "2023-05-08T12:46:19.774441",
     "exception": false,
     "start_time": "2023-05-08T12:46:19.766872",
     "status": "completed"
    },
    "tags": []
   },
   "source": [
    "# Preparing Dataset:"
   ]
  },
  {
   "cell_type": "code",
   "execution_count": 2,
   "id": "247d27f1",
   "metadata": {
    "execution": {
     "iopub.execute_input": "2023-05-08T12:46:19.791924Z",
     "iopub.status.busy": "2023-05-08T12:46:19.791277Z",
     "iopub.status.idle": "2023-05-08T12:46:20.783993Z",
     "shell.execute_reply": "2023-05-08T12:46:20.783236Z"
    },
    "papermill": {
     "duration": 1.004198,
     "end_time": "2023-05-08T12:46:20.786491",
     "exception": false,
     "start_time": "2023-05-08T12:46:19.782293",
     "status": "completed"
    },
    "tags": []
   },
   "outputs": [
    {
     "name": "stderr",
     "output_type": "stream",
     "text": [
      "/opt/conda/lib/python3.10/site-packages/scipy/__init__.py:146: UserWarning: A NumPy version >=1.16.5 and <1.23.0 is required for this version of SciPy (detected version 1.23.5\n",
      "  warnings.warn(f\"A NumPy version >={np_minversion} and <{np_maxversion}\"\n"
     ]
    }
   ],
   "source": [
    "import seaborn as sns\n",
    "import matplotlib.pyplot as plt\n"
   ]
  },
  {
   "cell_type": "code",
   "execution_count": 3,
   "id": "2e44adf8",
   "metadata": {
    "execution": {
     "iopub.execute_input": "2023-05-08T12:46:20.804930Z",
     "iopub.status.busy": "2023-05-08T12:46:20.803952Z",
     "iopub.status.idle": "2023-05-08T12:46:20.851557Z",
     "shell.execute_reply": "2023-05-08T12:46:20.850843Z"
    },
    "papermill": {
     "duration": 0.05861,
     "end_time": "2023-05-08T12:46:20.853341",
     "exception": false,
     "start_time": "2023-05-08T12:46:20.794731",
     "status": "completed"
    },
    "tags": []
   },
   "outputs": [
    {
     "data": {
      "text/html": [
       "<div>\n",
       "<style scoped>\n",
       "    .dataframe tbody tr th:only-of-type {\n",
       "        vertical-align: middle;\n",
       "    }\n",
       "\n",
       "    .dataframe tbody tr th {\n",
       "        vertical-align: top;\n",
       "    }\n",
       "\n",
       "    .dataframe thead th {\n",
       "        text-align: right;\n",
       "    }\n",
       "</style>\n",
       "<table border=\"1\" class=\"dataframe\">\n",
       "  <thead>\n",
       "    <tr style=\"text-align: right;\">\n",
       "      <th></th>\n",
       "      <th>full_scorecard</th>\n",
       "      <th>team1</th>\n",
       "      <th>team2</th>\n",
       "      <th>team1_score</th>\n",
       "      <th>team2_score</th>\n",
       "      <th>toss_winner</th>\n",
       "      <th>toss_choice</th>\n",
       "      <th>winner</th>\n",
       "      <th>margin</th>\n",
       "      <th>man_of_the_match</th>\n",
       "      <th>stadium</th>\n",
       "      <th>place</th>\n",
       "    </tr>\n",
       "  </thead>\n",
       "  <tbody>\n",
       "    <tr>\n",
       "      <th>0</th>\n",
       "      <td>https://stats.espncricinfo.com/ci/engine/match...</td>\n",
       "      <td>Chennai Super Kings</td>\n",
       "      <td>Kolkata Knight Riders</td>\n",
       "      <td>131.0</td>\n",
       "      <td>133.0</td>\n",
       "      <td>Kolkata Knight Riders</td>\n",
       "      <td>Field</td>\n",
       "      <td>KKR</td>\n",
       "      <td>6 wickets</td>\n",
       "      <td>Umesh Yadav</td>\n",
       "      <td>Wankhede Stadium</td>\n",
       "      <td>Mumbai</td>\n",
       "    </tr>\n",
       "    <tr>\n",
       "      <th>1</th>\n",
       "      <td>https://stats.espncricinfo.com/ci/engine/match...</td>\n",
       "      <td>Mumbai Indians</td>\n",
       "      <td>Delhi Capitals</td>\n",
       "      <td>177.0</td>\n",
       "      <td>179.0</td>\n",
       "      <td>Delhi Capitals</td>\n",
       "      <td>Field</td>\n",
       "      <td>Capitals</td>\n",
       "      <td>4 wickets</td>\n",
       "      <td>Kuldeep Yadav</td>\n",
       "      <td>Brabourne Stadium</td>\n",
       "      <td>Mumbai</td>\n",
       "    </tr>\n",
       "    <tr>\n",
       "      <th>2</th>\n",
       "      <td>https://stats.espncricinfo.com/ci/engine/match...</td>\n",
       "      <td>Royal Challengers Bangalore</td>\n",
       "      <td>Punjab Kings</td>\n",
       "      <td>205.0</td>\n",
       "      <td>208.0</td>\n",
       "      <td>Punjab Kings</td>\n",
       "      <td>Field</td>\n",
       "      <td>Punjab</td>\n",
       "      <td>5 wickets</td>\n",
       "      <td>Odean Smith</td>\n",
       "      <td>Dr DY Patil Sports Academy</td>\n",
       "      <td>Mumbai</td>\n",
       "    </tr>\n",
       "    <tr>\n",
       "      <th>3</th>\n",
       "      <td>https://stats.espncricinfo.com/ci/engine/match...</td>\n",
       "      <td>Lucknow Super Giants</td>\n",
       "      <td>Gujarat Titans</td>\n",
       "      <td>158.0</td>\n",
       "      <td>161.0</td>\n",
       "      <td>Gujarat Titans</td>\n",
       "      <td>Field</td>\n",
       "      <td>Titans</td>\n",
       "      <td>5 wickets</td>\n",
       "      <td>Mohammed Shami</td>\n",
       "      <td>Wankhede Stadium</td>\n",
       "      <td>Mumbai</td>\n",
       "    </tr>\n",
       "    <tr>\n",
       "      <th>4</th>\n",
       "      <td>https://stats.espncricinfo.com/ci/engine/match...</td>\n",
       "      <td>Rajasthan Royals</td>\n",
       "      <td>Sunrisers Hyderabad</td>\n",
       "      <td>210.0</td>\n",
       "      <td>149.0</td>\n",
       "      <td>Sunrisers Hyderabad</td>\n",
       "      <td>Field</td>\n",
       "      <td>Royals</td>\n",
       "      <td>61 runs</td>\n",
       "      <td>Sanju Samson</td>\n",
       "      <td>Maharashtra Cricket Association Stadium</td>\n",
       "      <td>Pune</td>\n",
       "    </tr>\n",
       "  </tbody>\n",
       "</table>\n",
       "</div>"
      ],
      "text/plain": [
       "                                      full_scorecard  \\\n",
       "0  https://stats.espncricinfo.com/ci/engine/match...   \n",
       "1  https://stats.espncricinfo.com/ci/engine/match...   \n",
       "2  https://stats.espncricinfo.com/ci/engine/match...   \n",
       "3  https://stats.espncricinfo.com/ci/engine/match...   \n",
       "4  https://stats.espncricinfo.com/ci/engine/match...   \n",
       "\n",
       "                         team1                  team2  team1_score  \\\n",
       "0          Chennai Super Kings  Kolkata Knight Riders        131.0   \n",
       "1               Mumbai Indians         Delhi Capitals        177.0   \n",
       "2  Royal Challengers Bangalore           Punjab Kings        205.0   \n",
       "3         Lucknow Super Giants         Gujarat Titans        158.0   \n",
       "4             Rajasthan Royals    Sunrisers Hyderabad        210.0   \n",
       "\n",
       "   team2_score            toss_winner toss_choice    winner     margin  \\\n",
       "0        133.0  Kolkata Knight Riders       Field       KKR  6 wickets   \n",
       "1        179.0         Delhi Capitals       Field  Capitals  4 wickets   \n",
       "2        208.0           Punjab Kings       Field    Punjab  5 wickets   \n",
       "3        161.0         Gujarat Titans       Field    Titans  5 wickets   \n",
       "4        149.0    Sunrisers Hyderabad       Field    Royals    61 runs   \n",
       "\n",
       "  man_of_the_match                                  stadium   place  \n",
       "0      Umesh Yadav                         Wankhede Stadium  Mumbai  \n",
       "1    Kuldeep Yadav                        Brabourne Stadium  Mumbai  \n",
       "2      Odean Smith               Dr DY Patil Sports Academy  Mumbai  \n",
       "3   Mohammed Shami                         Wankhede Stadium  Mumbai  \n",
       "4     Sanju Samson  Maharashtra Cricket Association Stadium    Pune  "
      ]
     },
     "execution_count": 3,
     "metadata": {},
     "output_type": "execute_result"
    }
   ],
   "source": [
    "df = pd.read_csv(\"/kaggle/input/complete-ipl-dataset-2008-2022/ipl_dataset.csv\")\n",
    "df.head()"
   ]
  },
  {
   "cell_type": "code",
   "execution_count": 4,
   "id": "0f0d3434",
   "metadata": {
    "execution": {
     "iopub.execute_input": "2023-05-08T12:46:20.871709Z",
     "iopub.status.busy": "2023-05-08T12:46:20.870821Z",
     "iopub.status.idle": "2023-05-08T12:46:20.894320Z",
     "shell.execute_reply": "2023-05-08T12:46:20.892640Z"
    },
    "papermill": {
     "duration": 0.035024,
     "end_time": "2023-05-08T12:46:20.896701",
     "exception": false,
     "start_time": "2023-05-08T12:46:20.861677",
     "status": "completed"
    },
    "tags": []
   },
   "outputs": [
    {
     "data": {
      "text/html": [
       "<div>\n",
       "<style scoped>\n",
       "    .dataframe tbody tr th:only-of-type {\n",
       "        vertical-align: middle;\n",
       "    }\n",
       "\n",
       "    .dataframe tbody tr th {\n",
       "        vertical-align: top;\n",
       "    }\n",
       "\n",
       "    .dataframe thead th {\n",
       "        text-align: right;\n",
       "    }\n",
       "</style>\n",
       "<table border=\"1\" class=\"dataframe\">\n",
       "  <thead>\n",
       "    <tr style=\"text-align: right;\">\n",
       "      <th></th>\n",
       "      <th>team1</th>\n",
       "      <th>team2</th>\n",
       "      <th>team1_score</th>\n",
       "      <th>team2_score</th>\n",
       "      <th>toss_winner</th>\n",
       "      <th>toss_choice</th>\n",
       "      <th>winner</th>\n",
       "      <th>margin</th>\n",
       "      <th>man_of_the_match</th>\n",
       "      <th>stadium</th>\n",
       "    </tr>\n",
       "  </thead>\n",
       "  <tbody>\n",
       "    <tr>\n",
       "      <th>0</th>\n",
       "      <td>Chennai Super Kings</td>\n",
       "      <td>Kolkata Knight Riders</td>\n",
       "      <td>131.0</td>\n",
       "      <td>133.0</td>\n",
       "      <td>Kolkata Knight Riders</td>\n",
       "      <td>Field</td>\n",
       "      <td>KKR</td>\n",
       "      <td>6 wickets</td>\n",
       "      <td>Umesh Yadav</td>\n",
       "      <td>Wankhede Stadium</td>\n",
       "    </tr>\n",
       "    <tr>\n",
       "      <th>1</th>\n",
       "      <td>Mumbai Indians</td>\n",
       "      <td>Delhi Capitals</td>\n",
       "      <td>177.0</td>\n",
       "      <td>179.0</td>\n",
       "      <td>Delhi Capitals</td>\n",
       "      <td>Field</td>\n",
       "      <td>Capitals</td>\n",
       "      <td>4 wickets</td>\n",
       "      <td>Kuldeep Yadav</td>\n",
       "      <td>Brabourne Stadium</td>\n",
       "    </tr>\n",
       "    <tr>\n",
       "      <th>2</th>\n",
       "      <td>Royal Challengers Bangalore</td>\n",
       "      <td>Punjab Kings</td>\n",
       "      <td>205.0</td>\n",
       "      <td>208.0</td>\n",
       "      <td>Punjab Kings</td>\n",
       "      <td>Field</td>\n",
       "      <td>Punjab</td>\n",
       "      <td>5 wickets</td>\n",
       "      <td>Odean Smith</td>\n",
       "      <td>Dr DY Patil Sports Academy</td>\n",
       "    </tr>\n",
       "    <tr>\n",
       "      <th>3</th>\n",
       "      <td>Lucknow Super Giants</td>\n",
       "      <td>Gujarat Titans</td>\n",
       "      <td>158.0</td>\n",
       "      <td>161.0</td>\n",
       "      <td>Gujarat Titans</td>\n",
       "      <td>Field</td>\n",
       "      <td>Titans</td>\n",
       "      <td>5 wickets</td>\n",
       "      <td>Mohammed Shami</td>\n",
       "      <td>Wankhede Stadium</td>\n",
       "    </tr>\n",
       "    <tr>\n",
       "      <th>4</th>\n",
       "      <td>Rajasthan Royals</td>\n",
       "      <td>Sunrisers Hyderabad</td>\n",
       "      <td>210.0</td>\n",
       "      <td>149.0</td>\n",
       "      <td>Sunrisers Hyderabad</td>\n",
       "      <td>Field</td>\n",
       "      <td>Royals</td>\n",
       "      <td>61 runs</td>\n",
       "      <td>Sanju Samson</td>\n",
       "      <td>Maharashtra Cricket Association Stadium</td>\n",
       "    </tr>\n",
       "    <tr>\n",
       "      <th>...</th>\n",
       "      <td>...</td>\n",
       "      <td>...</td>\n",
       "      <td>...</td>\n",
       "      <td>...</td>\n",
       "      <td>...</td>\n",
       "      <td>...</td>\n",
       "      <td>...</td>\n",
       "      <td>...</td>\n",
       "      <td>...</td>\n",
       "      <td>...</td>\n",
       "    </tr>\n",
       "    <tr>\n",
       "      <th>953</th>\n",
       "      <td>Royal Challengers Bangalore</td>\n",
       "      <td>Mumbai Indians</td>\n",
       "      <td>NaN</td>\n",
       "      <td>126.0</td>\n",
       "      <td>Mumbai Indians</td>\n",
       "      <td>Field</td>\n",
       "      <td>Mumbai</td>\n",
       "      <td>9 wickets</td>\n",
       "      <td>Dilhara Fernando</td>\n",
       "      <td>M Chinnaswamy Stadium</td>\n",
       "    </tr>\n",
       "    <tr>\n",
       "      <th>954</th>\n",
       "      <td>Kings XI Punjab</td>\n",
       "      <td>Rajasthan Royals</td>\n",
       "      <td>221.0</td>\n",
       "      <td>180.0</td>\n",
       "      <td>Rajasthan Royals</td>\n",
       "      <td>Field</td>\n",
       "      <td>Kings</td>\n",
       "      <td>41 runs</td>\n",
       "      <td>Shaun Marsh</td>\n",
       "      <td>Punjab Cricket Association Stadium</td>\n",
       "    </tr>\n",
       "    <tr>\n",
       "      <th>955</th>\n",
       "      <td>Rajasthan Royals</td>\n",
       "      <td>Delhi Daredevils</td>\n",
       "      <td>192.0</td>\n",
       "      <td>87.0</td>\n",
       "      <td>Delhi Daredevils</td>\n",
       "      <td>Field</td>\n",
       "      <td>Royals</td>\n",
       "      <td>105 runs</td>\n",
       "      <td>Shane Watson</td>\n",
       "      <td>Wankhede Stadium</td>\n",
       "    </tr>\n",
       "    <tr>\n",
       "      <th>956</th>\n",
       "      <td>Kings XI Punjab</td>\n",
       "      <td>Chennai Super Kings</td>\n",
       "      <td>112.0</td>\n",
       "      <td>116.0</td>\n",
       "      <td>Kings XI Punjab</td>\n",
       "      <td>Bat</td>\n",
       "      <td>Super</td>\n",
       "      <td>9 wickets</td>\n",
       "      <td>Makhaya Ntini</td>\n",
       "      <td>Wankhede Stadium</td>\n",
       "    </tr>\n",
       "    <tr>\n",
       "      <th>957</th>\n",
       "      <td>Chennai Super Kings</td>\n",
       "      <td>Rajasthan Royals</td>\n",
       "      <td>163.0</td>\n",
       "      <td>164.0</td>\n",
       "      <td>Rajasthan Royals</td>\n",
       "      <td>Field</td>\n",
       "      <td>Royals</td>\n",
       "      <td>3 wickets</td>\n",
       "      <td>Yusuf Pathan</td>\n",
       "      <td>Dr DY Patil Sports Academy</td>\n",
       "    </tr>\n",
       "  </tbody>\n",
       "</table>\n",
       "<p>958 rows × 10 columns</p>\n",
       "</div>"
      ],
      "text/plain": [
       "                           team1                  team2  team1_score  \\\n",
       "0            Chennai Super Kings  Kolkata Knight Riders        131.0   \n",
       "1                 Mumbai Indians         Delhi Capitals        177.0   \n",
       "2    Royal Challengers Bangalore           Punjab Kings        205.0   \n",
       "3           Lucknow Super Giants         Gujarat Titans        158.0   \n",
       "4               Rajasthan Royals    Sunrisers Hyderabad        210.0   \n",
       "..                           ...                    ...          ...   \n",
       "953  Royal Challengers Bangalore         Mumbai Indians          NaN   \n",
       "954              Kings XI Punjab       Rajasthan Royals        221.0   \n",
       "955             Rajasthan Royals       Delhi Daredevils        192.0   \n",
       "956              Kings XI Punjab    Chennai Super Kings        112.0   \n",
       "957          Chennai Super Kings       Rajasthan Royals        163.0   \n",
       "\n",
       "     team2_score            toss_winner toss_choice    winner     margin  \\\n",
       "0          133.0  Kolkata Knight Riders       Field       KKR  6 wickets   \n",
       "1          179.0         Delhi Capitals       Field  Capitals  4 wickets   \n",
       "2          208.0           Punjab Kings       Field    Punjab  5 wickets   \n",
       "3          161.0         Gujarat Titans       Field    Titans  5 wickets   \n",
       "4          149.0    Sunrisers Hyderabad       Field    Royals    61 runs   \n",
       "..           ...                    ...         ...       ...        ...   \n",
       "953        126.0         Mumbai Indians       Field    Mumbai  9 wickets   \n",
       "954        180.0       Rajasthan Royals       Field     Kings    41 runs   \n",
       "955         87.0       Delhi Daredevils       Field    Royals   105 runs   \n",
       "956        116.0        Kings XI Punjab         Bat     Super  9 wickets   \n",
       "957        164.0       Rajasthan Royals       Field    Royals  3 wickets   \n",
       "\n",
       "     man_of_the_match                                  stadium  \n",
       "0         Umesh Yadav                         Wankhede Stadium  \n",
       "1       Kuldeep Yadav                        Brabourne Stadium  \n",
       "2         Odean Smith               Dr DY Patil Sports Academy  \n",
       "3      Mohammed Shami                         Wankhede Stadium  \n",
       "4        Sanju Samson  Maharashtra Cricket Association Stadium  \n",
       "..                ...                                      ...  \n",
       "953  Dilhara Fernando                    M Chinnaswamy Stadium  \n",
       "954       Shaun Marsh       Punjab Cricket Association Stadium  \n",
       "955      Shane Watson                         Wankhede Stadium  \n",
       "956     Makhaya Ntini                         Wankhede Stadium  \n",
       "957      Yusuf Pathan               Dr DY Patil Sports Academy  \n",
       "\n",
       "[958 rows x 10 columns]"
      ]
     },
     "execution_count": 4,
     "metadata": {},
     "output_type": "execute_result"
    }
   ],
   "source": [
    "df.drop(['full_scorecard','place' ],axis =1 , inplace = True)\n",
    "df"
   ]
  },
  {
   "cell_type": "code",
   "execution_count": 5,
   "id": "94892316",
   "metadata": {
    "execution": {
     "iopub.execute_input": "2023-05-08T12:46:20.920578Z",
     "iopub.status.busy": "2023-05-08T12:46:20.919640Z",
     "iopub.status.idle": "2023-05-08T12:46:20.943750Z",
     "shell.execute_reply": "2023-05-08T12:46:20.943035Z"
    },
    "papermill": {
     "duration": 0.040099,
     "end_time": "2023-05-08T12:46:20.946582",
     "exception": false,
     "start_time": "2023-05-08T12:46:20.906483",
     "status": "completed"
    },
    "tags": []
   },
   "outputs": [
    {
     "name": "stdout",
     "output_type": "stream",
     "text": [
      "<class 'pandas.core.frame.DataFrame'>\n",
      "RangeIndex: 958 entries, 0 to 957\n",
      "Data columns (total 10 columns):\n",
      " #   Column            Non-Null Count  Dtype  \n",
      "---  ------            --------------  -----  \n",
      " 0   team1             958 non-null    object \n",
      " 1   team2             950 non-null    object \n",
      " 2   team1_score       930 non-null    float64\n",
      " 3   team2_score       948 non-null    float64\n",
      " 4   toss_winner       950 non-null    object \n",
      " 5   toss_choice       958 non-null    object \n",
      " 6   winner            958 non-null    object \n",
      " 7   margin            958 non-null    object \n",
      " 8   man_of_the_match  950 non-null    object \n",
      " 9   stadium           950 non-null    object \n",
      "dtypes: float64(2), object(8)\n",
      "memory usage: 75.0+ KB\n"
     ]
    }
   ],
   "source": [
    "df.info()"
   ]
  },
  {
   "cell_type": "code",
   "execution_count": 6,
   "id": "096f0b0e",
   "metadata": {
    "execution": {
     "iopub.execute_input": "2023-05-08T12:46:20.967806Z",
     "iopub.status.busy": "2023-05-08T12:46:20.967251Z",
     "iopub.status.idle": "2023-05-08T12:46:20.972880Z",
     "shell.execute_reply": "2023-05-08T12:46:20.972070Z"
    },
    "papermill": {
     "duration": 0.017075,
     "end_time": "2023-05-08T12:46:20.974694",
     "exception": false,
     "start_time": "2023-05-08T12:46:20.957619",
     "status": "completed"
    },
    "tags": []
   },
   "outputs": [
    {
     "data": {
      "text/plain": [
       "(958, 10)"
      ]
     },
     "execution_count": 6,
     "metadata": {},
     "output_type": "execute_result"
    }
   ],
   "source": [
    "df.shape"
   ]
  },
  {
   "cell_type": "code",
   "execution_count": 7,
   "id": "2ebffabd",
   "metadata": {
    "execution": {
     "iopub.execute_input": "2023-05-08T12:46:20.993311Z",
     "iopub.status.busy": "2023-05-08T12:46:20.992700Z",
     "iopub.status.idle": "2023-05-08T12:46:21.010087Z",
     "shell.execute_reply": "2023-05-08T12:46:21.009345Z"
    },
    "papermill": {
     "duration": 0.028607,
     "end_time": "2023-05-08T12:46:21.011900",
     "exception": false,
     "start_time": "2023-05-08T12:46:20.983293",
     "status": "completed"
    },
    "tags": []
   },
   "outputs": [
    {
     "data": {
      "text/html": [
       "<div>\n",
       "<style scoped>\n",
       "    .dataframe tbody tr th:only-of-type {\n",
       "        vertical-align: middle;\n",
       "    }\n",
       "\n",
       "    .dataframe tbody tr th {\n",
       "        vertical-align: top;\n",
       "    }\n",
       "\n",
       "    .dataframe thead th {\n",
       "        text-align: right;\n",
       "    }\n",
       "</style>\n",
       "<table border=\"1\" class=\"dataframe\">\n",
       "  <thead>\n",
       "    <tr style=\"text-align: right;\">\n",
       "      <th></th>\n",
       "      <th>team1_score</th>\n",
       "      <th>team2_score</th>\n",
       "    </tr>\n",
       "  </thead>\n",
       "  <tbody>\n",
       "    <tr>\n",
       "      <th>count</th>\n",
       "      <td>930.000000</td>\n",
       "      <td>948.000000</td>\n",
       "    </tr>\n",
       "    <tr>\n",
       "      <th>mean</th>\n",
       "      <td>163.149462</td>\n",
       "      <td>149.282700</td>\n",
       "    </tr>\n",
       "    <tr>\n",
       "      <th>std</th>\n",
       "      <td>29.695734</td>\n",
       "      <td>30.606165</td>\n",
       "    </tr>\n",
       "    <tr>\n",
       "      <th>min</th>\n",
       "      <td>67.000000</td>\n",
       "      <td>2.000000</td>\n",
       "    </tr>\n",
       "    <tr>\n",
       "      <th>25%</th>\n",
       "      <td>145.000000</td>\n",
       "      <td>132.000000</td>\n",
       "    </tr>\n",
       "    <tr>\n",
       "      <th>50%</th>\n",
       "      <td>164.000000</td>\n",
       "      <td>151.000000</td>\n",
       "    </tr>\n",
       "    <tr>\n",
       "      <th>75%</th>\n",
       "      <td>183.000000</td>\n",
       "      <td>170.000000</td>\n",
       "    </tr>\n",
       "    <tr>\n",
       "      <th>max</th>\n",
       "      <td>263.000000</td>\n",
       "      <td>226.000000</td>\n",
       "    </tr>\n",
       "  </tbody>\n",
       "</table>\n",
       "</div>"
      ],
      "text/plain": [
       "       team1_score  team2_score\n",
       "count   930.000000   948.000000\n",
       "mean    163.149462   149.282700\n",
       "std      29.695734    30.606165\n",
       "min      67.000000     2.000000\n",
       "25%     145.000000   132.000000\n",
       "50%     164.000000   151.000000\n",
       "75%     183.000000   170.000000\n",
       "max     263.000000   226.000000"
      ]
     },
     "execution_count": 7,
     "metadata": {},
     "output_type": "execute_result"
    }
   ],
   "source": [
    "df.describe()"
   ]
  },
  {
   "cell_type": "markdown",
   "id": "d40e36b4",
   "metadata": {
    "papermill": {
     "duration": 0.008805,
     "end_time": "2023-05-08T12:46:21.029681",
     "exception": false,
     "start_time": "2023-05-08T12:46:21.020876",
     "status": "completed"
    },
    "tags": []
   },
   "source": [
    "### Removing Null values"
   ]
  },
  {
   "cell_type": "code",
   "execution_count": 8,
   "id": "dc29ef77",
   "metadata": {
    "execution": {
     "iopub.execute_input": "2023-05-08T12:46:21.048782Z",
     "iopub.status.busy": "2023-05-08T12:46:21.048435Z",
     "iopub.status.idle": "2023-05-08T12:46:21.057323Z",
     "shell.execute_reply": "2023-05-08T12:46:21.056458Z"
    },
    "papermill": {
     "duration": 0.020466,
     "end_time": "2023-05-08T12:46:21.059086",
     "exception": false,
     "start_time": "2023-05-08T12:46:21.038620",
     "status": "completed"
    },
    "tags": []
   },
   "outputs": [
    {
     "data": {
      "text/plain": [
       "team1                0\n",
       "team2                8\n",
       "team1_score         28\n",
       "team2_score         10\n",
       "toss_winner          8\n",
       "toss_choice          0\n",
       "winner               0\n",
       "margin               0\n",
       "man_of_the_match     8\n",
       "stadium              8\n",
       "dtype: int64"
      ]
     },
     "execution_count": 8,
     "metadata": {},
     "output_type": "execute_result"
    }
   ],
   "source": [
    "df.isnull().sum()"
   ]
  },
  {
   "cell_type": "code",
   "execution_count": 9,
   "id": "07b6f426",
   "metadata": {
    "execution": {
     "iopub.execute_input": "2023-05-08T12:46:21.078247Z",
     "iopub.status.busy": "2023-05-08T12:46:21.077677Z",
     "iopub.status.idle": "2023-05-08T12:46:21.084217Z",
     "shell.execute_reply": "2023-05-08T12:46:21.083469Z"
    },
    "papermill": {
     "duration": 0.018258,
     "end_time": "2023-05-08T12:46:21.086005",
     "exception": false,
     "start_time": "2023-05-08T12:46:21.067747",
     "status": "completed"
    },
    "tags": []
   },
   "outputs": [],
   "source": [
    "df.iloc[:,:-1]\n",
    "df.dropna(inplace=True)"
   ]
  },
  {
   "cell_type": "code",
   "execution_count": 10,
   "id": "2631675b",
   "metadata": {
    "execution": {
     "iopub.execute_input": "2023-05-08T12:46:21.105448Z",
     "iopub.status.busy": "2023-05-08T12:46:21.104418Z",
     "iopub.status.idle": "2023-05-08T12:46:21.113870Z",
     "shell.execute_reply": "2023-05-08T12:46:21.112858Z"
    },
    "papermill": {
     "duration": 0.021137,
     "end_time": "2023-05-08T12:46:21.115855",
     "exception": false,
     "start_time": "2023-05-08T12:46:21.094718",
     "status": "completed"
    },
    "tags": []
   },
   "outputs": [
    {
     "data": {
      "text/plain": [
       "team1               0\n",
       "team2               0\n",
       "team1_score         0\n",
       "team2_score         0\n",
       "toss_winner         0\n",
       "toss_choice         0\n",
       "winner              0\n",
       "margin              0\n",
       "man_of_the_match    0\n",
       "stadium             0\n",
       "dtype: int64"
      ]
     },
     "execution_count": 10,
     "metadata": {},
     "output_type": "execute_result"
    }
   ],
   "source": [
    "df.isnull().sum()"
   ]
  },
  {
   "cell_type": "code",
   "execution_count": 11,
   "id": "bb06eb07",
   "metadata": {
    "execution": {
     "iopub.execute_input": "2023-05-08T12:46:21.135682Z",
     "iopub.status.busy": "2023-05-08T12:46:21.135102Z",
     "iopub.status.idle": "2023-05-08T12:46:21.140871Z",
     "shell.execute_reply": "2023-05-08T12:46:21.140099Z"
    },
    "papermill": {
     "duration": 0.017612,
     "end_time": "2023-05-08T12:46:21.142695",
     "exception": false,
     "start_time": "2023-05-08T12:46:21.125083",
     "status": "completed"
    },
    "tags": []
   },
   "outputs": [
    {
     "data": {
      "text/plain": [
       "(930, 10)"
      ]
     },
     "execution_count": 11,
     "metadata": {},
     "output_type": "execute_result"
    }
   ],
   "source": [
    "df.shape"
   ]
  },
  {
   "cell_type": "code",
   "execution_count": 12,
   "id": "2e6734ad",
   "metadata": {
    "execution": {
     "iopub.execute_input": "2023-05-08T12:46:21.162453Z",
     "iopub.status.busy": "2023-05-08T12:46:21.161946Z",
     "iopub.status.idle": "2023-05-08T12:46:21.168286Z",
     "shell.execute_reply": "2023-05-08T12:46:21.167496Z"
    },
    "papermill": {
     "duration": 0.018337,
     "end_time": "2023-05-08T12:46:21.170097",
     "exception": false,
     "start_time": "2023-05-08T12:46:21.151760",
     "status": "completed"
    },
    "tags": []
   },
   "outputs": [
    {
     "data": {
      "text/plain": [
       "array(['Chennai Super Kings', 'Mumbai Indians',\n",
       "       'Royal Challengers Bangalore', 'Lucknow Super Giants',\n",
       "       'Rajasthan Royals', 'Kolkata Knight Riders', 'Punjab Kings',\n",
       "       'Gujarat Titans', 'Delhi Capitals', 'Sunrisers Hyderabad',\n",
       "       'Kings XI Punjab', 'Delhi Daredevils', 'Gujarat Lions',\n",
       "       'Rising Pune Supergiant', 'Rising Pune Supergiants',\n",
       "       'Pune Warriors', 'Deccan Chargers', 'Kochi Tuskers Kerala'],\n",
       "      dtype=object)"
      ]
     },
     "execution_count": 12,
     "metadata": {},
     "output_type": "execute_result"
    }
   ],
   "source": [
    "# here checking all the teams that have featured in IPL so far.\n",
    "df['team1'].unique()"
   ]
  },
  {
   "cell_type": "markdown",
   "id": "f150d424",
   "metadata": {
    "papermill": {
     "duration": 0.009313,
     "end_time": "2023-05-08T12:46:21.188620",
     "exception": false,
     "start_time": "2023-05-08T12:46:21.179307",
     "status": "completed"
    },
    "tags": []
   },
   "source": [
    "Few teams have chaged their names such as delhi capitals . sunrisers hyderabad and punjab kings so we have merge these names "
   ]
  },
  {
   "cell_type": "code",
   "execution_count": 13,
   "id": "97ba864e",
   "metadata": {
    "execution": {
     "iopub.execute_input": "2023-05-08T12:46:21.208905Z",
     "iopub.status.busy": "2023-05-08T12:46:21.208252Z",
     "iopub.status.idle": "2023-05-08T12:46:21.229053Z",
     "shell.execute_reply": "2023-05-08T12:46:21.228240Z"
    },
    "papermill": {
     "duration": 0.033693,
     "end_time": "2023-05-08T12:46:21.231367",
     "exception": false,
     "start_time": "2023-05-08T12:46:21.197674",
     "status": "completed"
    },
    "tags": []
   },
   "outputs": [],
   "source": [
    "df['team1']=df['team1'].str.replace('Delhi Daredevils','Delhi Capitals')\n",
    "df['team2']=df['team2'].str.replace('Delhi Daredevils','Delhi Capitals')\n",
    "df['toss_winner']=df['toss_winner'].str.replace('Delhi Daredevils','Delhi Capitals')\n",
    "\n",
    "df['team1']=df['team1'].str.replace('Deccan Chargers','Sunrisers Hyderabad')\n",
    "df['team2']=df['team2'].str.replace('Deccan Chargers','Sunrisers Hyderabad')\n",
    "df['toss_winner']=df['toss_winner'].str.replace('Deccan Chargers','Sunrisers Hyderabad')\n",
    "\n",
    "df['team1']=df['team1'].str.replace('Rising Pune Supergiants','Rising Pune Supergiant')\n",
    "df['team2']=df['team2'].str.replace('Rising Pune Supergiants','Rising Pune Supergiant')\n",
    "df['toss_winner']=df['toss_winner'].str.replace('Rising Pune Supergiants','Rising Pune Supergiant')\n",
    "\n",
    "df['team1']=df['team1'].str.replace('Kings XI Punjab','Punjab Kings')\n",
    "df['team2']=df['team2'].str.replace('Kings XI Punjab','Punjab Kings')\n",
    "df['toss_winner']=df['toss_winner'].str.replace('Kings XI Punjab','Punjab Kings')"
   ]
  },
  {
   "cell_type": "code",
   "execution_count": 14,
   "id": "73dfd2b6",
   "metadata": {
    "execution": {
     "iopub.execute_input": "2023-05-08T12:46:21.251822Z",
     "iopub.status.busy": "2023-05-08T12:46:21.251493Z",
     "iopub.status.idle": "2023-05-08T12:46:21.257939Z",
     "shell.execute_reply": "2023-05-08T12:46:21.257085Z"
    },
    "papermill": {
     "duration": 0.018983,
     "end_time": "2023-05-08T12:46:21.259964",
     "exception": false,
     "start_time": "2023-05-08T12:46:21.240981",
     "status": "completed"
    },
    "tags": []
   },
   "outputs": [
    {
     "data": {
      "text/plain": [
       "array(['Chennai Super Kings', 'Mumbai Indians',\n",
       "       'Royal Challengers Bangalore', 'Lucknow Super Giants',\n",
       "       'Rajasthan Royals', 'Kolkata Knight Riders', 'Punjab Kings',\n",
       "       'Gujarat Titans', 'Delhi Capitals', 'Sunrisers Hyderabad',\n",
       "       'Gujarat Lions', 'Rising Pune Supergiant', 'Pune Warriors',\n",
       "       'Kochi Tuskers Kerala'], dtype=object)"
      ]
     },
     "execution_count": 14,
     "metadata": {},
     "output_type": "execute_result"
    }
   ],
   "source": [
    "df['team1'].unique()"
   ]
  },
  {
   "cell_type": "code",
   "execution_count": 15,
   "id": "37191bd6",
   "metadata": {
    "execution": {
     "iopub.execute_input": "2023-05-08T12:46:21.284634Z",
     "iopub.status.busy": "2023-05-08T12:46:21.283305Z",
     "iopub.status.idle": "2023-05-08T12:46:21.291152Z",
     "shell.execute_reply": "2023-05-08T12:46:21.290068Z"
    },
    "papermill": {
     "duration": 0.023597,
     "end_time": "2023-05-08T12:46:21.293336",
     "exception": false,
     "start_time": "2023-05-08T12:46:21.269739",
     "status": "completed"
    },
    "tags": []
   },
   "outputs": [
    {
     "data": {
      "text/plain": [
       "array(['KKR', 'Capitals', 'Punjab', 'Titans', 'Royals', 'RCB', 'Super',\n",
       "       'Sunrisers', 'Mumbai', 'Tied', 'Kings', 'Daredevils', 'Supergiant',\n",
       "       'Guj', 'Supergiants', 'No', 'Warriors', 'Chargers', 'Kochi'],\n",
       "      dtype=object)"
      ]
     },
     "execution_count": 15,
     "metadata": {},
     "output_type": "execute_result"
    }
   ],
   "source": [
    "df[\"winner\"].unique()"
   ]
  },
  {
   "cell_type": "code",
   "execution_count": 16,
   "id": "038f855e",
   "metadata": {
    "execution": {
     "iopub.execute_input": "2023-05-08T12:46:21.316849Z",
     "iopub.status.busy": "2023-05-08T12:46:21.316115Z",
     "iopub.status.idle": "2023-05-08T12:46:21.341822Z",
     "shell.execute_reply": "2023-05-08T12:46:21.341083Z"
    },
    "papermill": {
     "duration": 0.040964,
     "end_time": "2023-05-08T12:46:21.344604",
     "exception": false,
     "start_time": "2023-05-08T12:46:21.303640",
     "status": "completed"
    },
    "tags": []
   },
   "outputs": [],
   "source": [
    "# Changing alias of winner teams for better understanding:\n",
    "df['winner']=df['winner'].str.replace('Capitals','DC')\n",
    "df['winner']=df['winner'].str.replace('Punjab','PBKS')\n",
    "df['winner']=df['winner'].str.replace('Titans','GT')\n",
    "df['winner']=df['winner'].str.replace('Royals','RR')\n",
    "df['winner']=df['winner'].str.replace('Super','CSK')\n",
    "df['winner']=df['winner'].str.replace('Sunrisers','SRH')\n",
    "df['winner']=df['winner'].str.replace('Mumbai','MI')\n",
    "df['winner']=df['winner'].str.replace('Kings','PBKS')\n",
    "df['winner']=df['winner'].str.replace('Daredevils','DC')\n",
    "df['winner']=df['winner'].str.replace('Supergiant','RPS')\n",
    "df['winner']=df['winner'].str.replace('Guj','GL')\n",
    "df['winner']=df['winner'].str.replace('Supergiants','RPS')\n",
    "df['winner']=df['winner'].str.replace('Warriors','PWI')\n",
    "df['winner']=df['winner'].str.replace('Chargers','SRH')\n",
    "df['winner']=df['winner'].str.replace('Kochi','KTK')"
   ]
  },
  {
   "cell_type": "code",
   "execution_count": 17,
   "id": "3851e6a1",
   "metadata": {
    "execution": {
     "iopub.execute_input": "2023-05-08T12:46:21.375717Z",
     "iopub.status.busy": "2023-05-08T12:46:21.374869Z",
     "iopub.status.idle": "2023-05-08T12:46:21.382524Z",
     "shell.execute_reply": "2023-05-08T12:46:21.381601Z"
    },
    "papermill": {
     "duration": 0.024382,
     "end_time": "2023-05-08T12:46:21.384531",
     "exception": false,
     "start_time": "2023-05-08T12:46:21.360149",
     "status": "completed"
    },
    "tags": []
   },
   "outputs": [],
   "source": [
    "df['winner']=df['winner'].str.replace('CSKgiants','RPS')\n",
    "df['winner']=df['winner'].str.replace('CSKgiant','RPS')"
   ]
  },
  {
   "cell_type": "code",
   "execution_count": 18,
   "id": "f5646376",
   "metadata": {
    "execution": {
     "iopub.execute_input": "2023-05-08T12:46:21.405774Z",
     "iopub.status.busy": "2023-05-08T12:46:21.405109Z",
     "iopub.status.idle": "2023-05-08T12:46:21.411071Z",
     "shell.execute_reply": "2023-05-08T12:46:21.410068Z"
    },
    "papermill": {
     "duration": 0.018512,
     "end_time": "2023-05-08T12:46:21.412864",
     "exception": false,
     "start_time": "2023-05-08T12:46:21.394352",
     "status": "completed"
    },
    "tags": []
   },
   "outputs": [],
   "source": [
    "df['winner']=df['winner'].str.replace('RPSs','RPS')"
   ]
  },
  {
   "cell_type": "code",
   "execution_count": 19,
   "id": "1a488696",
   "metadata": {
    "execution": {
     "iopub.execute_input": "2023-05-08T12:46:21.433978Z",
     "iopub.status.busy": "2023-05-08T12:46:21.433356Z",
     "iopub.status.idle": "2023-05-08T12:46:21.438891Z",
     "shell.execute_reply": "2023-05-08T12:46:21.438287Z"
    },
    "papermill": {
     "duration": 0.018039,
     "end_time": "2023-05-08T12:46:21.440627",
     "exception": false,
     "start_time": "2023-05-08T12:46:21.422588",
     "status": "completed"
    },
    "tags": []
   },
   "outputs": [
    {
     "data": {
      "text/plain": [
       "array(['KKR', 'DC', 'PBKS', 'GT', 'RR', 'RCB', 'CSK', 'SRH', 'MI', 'Tied',\n",
       "       'RPS', 'GL', 'No', 'PWI', 'KTK'], dtype=object)"
      ]
     },
     "execution_count": 19,
     "metadata": {},
     "output_type": "execute_result"
    }
   ],
   "source": [
    "df[\"winner\"].unique()"
   ]
  },
  {
   "cell_type": "code",
   "execution_count": 20,
   "id": "a91fe493",
   "metadata": {
    "execution": {
     "iopub.execute_input": "2023-05-08T12:46:21.460808Z",
     "iopub.status.busy": "2023-05-08T12:46:21.460185Z",
     "iopub.status.idle": "2023-05-08T12:46:21.468982Z",
     "shell.execute_reply": "2023-05-08T12:46:21.467943Z"
    },
    "papermill": {
     "duration": 0.021278,
     "end_time": "2023-05-08T12:46:21.471130",
     "exception": false,
     "start_time": "2023-05-08T12:46:21.449852",
     "status": "completed"
    },
    "tags": []
   },
   "outputs": [
    {
     "name": "stdout",
     "output_type": "stream",
     "text": [
      "------------\n",
      "['Wankhede Stadium' 'Brabourne Stadium' 'Dr DY Patil Sports Academy'\n",
      " 'Maharashtra Cricket Association Stadium' 'Eden Gardens'\n",
      " 'Narendra Modi Stadium' 'MA Chidambaram Stadium' 'Arun Jaitley Stadium'\n",
      " 'Dubai International Cricket Stadium' 'Zayed Cricket Stadium'\n",
      " 'Sharjah Cricket Stadium' 'Sheikh Zayed Stadium' 'Sawai Mansingh Stadium'\n",
      " 'Feroz Shah Kotla' 'M Chinnaswamy Stadium'\n",
      " 'Rajiv Gandhi International Stadium'\n",
      " 'Punjab Cricket Association IS Bindra Stadium'\n",
      " 'Andhra Cricket Association-Visakhapatnam District Cricket Association Stadium'\n",
      " 'Holkar Cricket Stadium' 'Saurashtra Cricket Association Stadium'\n",
      " 'Green Park' 'Dr. Y.S. Rajasekhara Reddy ACA-VDCA Cricket Stadium'\n",
      " 'Shaheed Veer Narayan Singh International Stadium' 'Sardar Patel Stadium'\n",
      " 'Punjab Cricket Association Stadium' 'JSCA International Stadium Complex'\n",
      " 'Barabati Stadium' 'Subrata Roy Sahara Stadium'\n",
      " 'Himachal Pradesh Cricket Association Stadium' 'Nehru Stadium'\n",
      " 'Vidarbha Cricket Association Stadium' 'Newlands' \"St George's Park\"\n",
      " 'Kingsmead' 'SuperSport Park' 'Buffalo Park' 'New Wanderers Stadium'\n",
      " 'De Beers Diamond Oval' 'OUTsurance Oval']\n",
      "Wankhede Stadium                                                                 104\n",
      "Eden Gardens                                                                      76\n",
      "M Chinnaswamy Stadium                                                             73\n",
      "Feroz Shah Kotla                                                                  71\n",
      "MA Chidambaram Stadium                                                            67\n",
      "Rajiv Gandhi International Stadium                                                63\n",
      "Sawai Mansingh Stadium                                                            46\n",
      "Dubai International Cricket Stadium                                               46\n",
      "Dr DY Patil Sports Academy                                                        37\n",
      "Maharashtra Cricket Association Stadium                                           34\n",
      "Punjab Cricket Association Stadium                                                34\n",
      "Sharjah Cricket Stadium                                                           28\n",
      "Zayed Cricket Stadium                                                             28\n",
      "Brabourne Stadium                                                                 27\n",
      "Punjab Cricket Association IS Bindra Stadium                                      21\n",
      "Subrata Roy Sahara Stadium                                                        17\n",
      "Kingsmead                                                                         15\n",
      "Sardar Patel Stadium                                                              12\n",
      "Dr. Y.S. Rajasekhara Reddy ACA-VDCA Cricket Stadium                               11\n",
      "SuperSport Park                                                                   11\n",
      "Saurashtra Cricket Association Stadium                                            10\n",
      "Holkar Cricket Stadium                                                             9\n",
      "Sheikh Zayed Stadium                                                               9\n",
      "Himachal Pradesh Cricket Association Stadium                                       9\n",
      "New Wanderers Stadium                                                              8\n",
      "Barabati Stadium                                                                   7\n",
      "St George's Park                                                                   7\n",
      "Narendra Modi Stadium                                                              7\n",
      "JSCA International Stadium Complex                                                 6\n",
      "Shaheed Veer Narayan Singh International Stadium                                   6\n",
      "Newlands                                                                           6\n",
      "Green Park                                                                         4\n",
      "Nehru Stadium                                                                      4\n",
      "Arun Jaitley Stadium                                                               4\n",
      "De Beers Diamond Oval                                                              3\n",
      "Vidarbha Cricket Association Stadium                                               3\n",
      "Buffalo Park                                                                       3\n",
      "Andhra Cricket Association-Visakhapatnam District Cricket Association Stadium      2\n",
      "OUTsurance Oval                                                                    2\n",
      "Name: stadium, dtype: int64\n",
      "------------\n",
      "['Field' 'Bat']\n",
      "Field    586\n",
      "Bat      344\n",
      "Name: toss_choice, dtype: int64\n",
      "------------\n",
      "['KKR' 'DC' 'PBKS' 'GT' 'RR' 'RCB' 'CSK' 'SRH' 'MI' 'Tied' 'RPS' 'GL' 'No'\n",
      " 'PWI' 'KTK']\n",
      "CSK     128\n",
      "MI      128\n",
      "KKR     111\n",
      "SRH     103\n",
      "RCB     102\n",
      "DC       97\n",
      "PBKS     96\n",
      "RR       93\n",
      "RPS      15\n",
      "Tied     14\n",
      "GL       13\n",
      "GT       12\n",
      "PWI      12\n",
      "KTK       5\n",
      "No        1\n",
      "Name: winner, dtype: int64\n"
     ]
    }
   ],
   "source": [
    "# Checking unique values in each feature:\n",
    "x = [\"stadium\", \"toss_choice\", \"winner\"]\n",
    "for i in x:\n",
    "  print(\"------------\")\n",
    "  print(df[i].unique())\n",
    "  print(df[i].value_counts())"
   ]
  },
  {
   "cell_type": "markdown",
   "id": "1b9c8cd2",
   "metadata": {
    "papermill": {
     "duration": 0.009162,
     "end_time": "2023-05-08T12:46:21.490074",
     "exception": false,
     "start_time": "2023-05-08T12:46:21.480912",
     "status": "completed"
    },
    "tags": []
   },
   "source": [
    "# Exploratory data analysis:"
   ]
  },
  {
   "cell_type": "code",
   "execution_count": 21,
   "id": "673f4a38",
   "metadata": {
    "execution": {
     "iopub.execute_input": "2023-05-08T12:46:21.510538Z",
     "iopub.status.busy": "2023-05-08T12:46:21.510166Z",
     "iopub.status.idle": "2023-05-08T12:46:21.903792Z",
     "shell.execute_reply": "2023-05-08T12:46:21.903145Z"
    },
    "papermill": {
     "duration": 0.406002,
     "end_time": "2023-05-08T12:46:21.905585",
     "exception": false,
     "start_time": "2023-05-08T12:46:21.499583",
     "status": "completed"
    },
    "tags": []
   },
   "outputs": [
    {
     "data": {
      "text/plain": [
       "Text(0.5, 1.0, 'Number of  IPL  matches won by each team')"
      ]
     },
     "execution_count": 21,
     "metadata": {},
     "output_type": "execute_result"
    },
    {
     "data": {
      "image/png": "[encoded data removed]",
      "text/plain": [
       "<Figure size 1000x600 with 1 Axes>"
      ]
     },
     "metadata": {},
     "output_type": "display_data"
    }
   ],
   "source": [
    "plt.figure(figsize = (10,6))\n",
    "sns.countplot(y = 'winner',data = df,order= df['winner'].value_counts().index)\n",
    "plt.xlabel('Wins')\n",
    "plt.ylabel('Team')\n",
    "plt.title('Number of  IPL  matches won by each team')"
   ]
  },
  {
   "cell_type": "code",
   "execution_count": 22,
   "id": "e7ca8ab3",
   "metadata": {
    "execution": {
     "iopub.execute_input": "2023-05-08T12:46:21.928256Z",
     "iopub.status.busy": "2023-05-08T12:46:21.927631Z",
     "iopub.status.idle": "2023-05-08T12:46:22.264336Z",
     "shell.execute_reply": "2023-05-08T12:46:22.263078Z"
    },
    "papermill": {
     "duration": 0.350346,
     "end_time": "2023-05-08T12:46:22.266478",
     "exception": false,
     "start_time": "2023-05-08T12:46:21.916132",
     "status": "completed"
    },
    "tags": []
   },
   "outputs": [
    {
     "data": {
      "text/plain": [
       "Text(0.5, 1.0, 'Total Number of matches played in different stadium')"
      ]
     },
     "execution_count": 22,
     "metadata": {},
     "output_type": "execute_result"
    },
    {
     "data": {
      "image/png": "[encoded data removed]",
      "text/plain": [
       "<Figure size 1000x600 with 1 Axes>"
      ]
     },
     "metadata": {},
     "output_type": "display_data"
    }
   ],
   "source": [
    "plt.figure(figsize = (10,6))\n",
    "sns.countplot(y = 'stadium',data = df,order = df['stadium'].value_counts().iloc[:10].index)\n",
    "plt.xlabel('No of matches',fontsize=12)\n",
    "plt.ylabel('Venue',fontsize=12)\n",
    "plt.title('Total Number of matches played in different stadium')"
   ]
  },
  {
   "cell_type": "code",
   "execution_count": 23,
   "id": "c2508bf5",
   "metadata": {
    "execution": {
     "iopub.execute_input": "2023-05-08T12:46:22.292006Z",
     "iopub.status.busy": "2023-05-08T12:46:22.290892Z",
     "iopub.status.idle": "2023-05-08T12:46:22.532229Z",
     "shell.execute_reply": "2023-05-08T12:46:22.531258Z"
    },
    "papermill": {
     "duration": 0.256121,
     "end_time": "2023-05-08T12:46:22.534284",
     "exception": false,
     "start_time": "2023-05-08T12:46:22.278163",
     "status": "completed"
    },
    "tags": []
   },
   "outputs": [
    {
     "data": {
      "text/plain": [
       "Text(0.5, 1.0, 'Toss Decision')"
      ]
     },
     "execution_count": 23,
     "metadata": {},
     "output_type": "execute_result"
    },
    {
     "data": {
      "image/png": "[encoded data removed]",
      "text/plain": [
       "<Figure size 1000x600 with 1 Axes>"
      ]
     },
     "metadata": {},
     "output_type": "display_data"
    }
   ],
   "source": [
    "plt.figure(figsize = (10,6))\n",
    "sns.countplot(x = \"toss_choice\", data=df)\n",
    "plt.xlabel('Toss Decision',fontsize=12)\n",
    "plt.ylabel('Count',fontsize=12)\n",
    "plt.title('Toss Decision')"
   ]
  },
  {
   "cell_type": "markdown",
   "id": "7b4f9d23",
   "metadata": {
    "papermill": {
     "duration": 0.011576,
     "end_time": "2023-05-08T12:46:22.557715",
     "exception": false,
     "start_time": "2023-05-08T12:46:22.546139",
     "status": "completed"
    },
    "tags": []
   },
   "source": [
    "# Data Preprocessing:"
   ]
  },
  {
   "cell_type": "code",
   "execution_count": 24,
   "id": "00d1ed9d",
   "metadata": {
    "execution": {
     "iopub.execute_input": "2023-05-08T12:46:22.583856Z",
     "iopub.status.busy": "2023-05-08T12:46:22.582965Z",
     "iopub.status.idle": "2023-05-08T12:46:22.601245Z",
     "shell.execute_reply": "2023-05-08T12:46:22.600475Z"
    },
    "papermill": {
     "duration": 0.033548,
     "end_time": "2023-05-08T12:46:22.603103",
     "exception": false,
     "start_time": "2023-05-08T12:46:22.569555",
     "status": "completed"
    },
    "tags": []
   },
   "outputs": [
    {
     "data": {
      "text/html": [
       "<div>\n",
       "<style scoped>\n",
       "    .dataframe tbody tr th:only-of-type {\n",
       "        vertical-align: middle;\n",
       "    }\n",
       "\n",
       "    .dataframe tbody tr th {\n",
       "        vertical-align: top;\n",
       "    }\n",
       "\n",
       "    .dataframe thead th {\n",
       "        text-align: right;\n",
       "    }\n",
       "</style>\n",
       "<table border=\"1\" class=\"dataframe\">\n",
       "  <thead>\n",
       "    <tr style=\"text-align: right;\">\n",
       "      <th></th>\n",
       "      <th>team1</th>\n",
       "      <th>team2</th>\n",
       "      <th>team1_score</th>\n",
       "      <th>team2_score</th>\n",
       "      <th>toss_winner</th>\n",
       "      <th>toss_choice</th>\n",
       "      <th>winner</th>\n",
       "      <th>margin</th>\n",
       "      <th>man_of_the_match</th>\n",
       "      <th>stadium</th>\n",
       "    </tr>\n",
       "  </thead>\n",
       "  <tbody>\n",
       "    <tr>\n",
       "      <th>0</th>\n",
       "      <td>Chennai Super Kings</td>\n",
       "      <td>Kolkata Knight Riders</td>\n",
       "      <td>131.0</td>\n",
       "      <td>133.0</td>\n",
       "      <td>Kolkata Knight Riders</td>\n",
       "      <td>Field</td>\n",
       "      <td>KKR</td>\n",
       "      <td>6 wickets</td>\n",
       "      <td>Umesh Yadav</td>\n",
       "      <td>Wankhede Stadium</td>\n",
       "    </tr>\n",
       "    <tr>\n",
       "      <th>1</th>\n",
       "      <td>Mumbai Indians</td>\n",
       "      <td>Delhi Capitals</td>\n",
       "      <td>177.0</td>\n",
       "      <td>179.0</td>\n",
       "      <td>Delhi Capitals</td>\n",
       "      <td>Field</td>\n",
       "      <td>DC</td>\n",
       "      <td>4 wickets</td>\n",
       "      <td>Kuldeep Yadav</td>\n",
       "      <td>Brabourne Stadium</td>\n",
       "    </tr>\n",
       "    <tr>\n",
       "      <th>2</th>\n",
       "      <td>Royal Challengers Bangalore</td>\n",
       "      <td>Punjab Kings</td>\n",
       "      <td>205.0</td>\n",
       "      <td>208.0</td>\n",
       "      <td>Punjab Kings</td>\n",
       "      <td>Field</td>\n",
       "      <td>PBKS</td>\n",
       "      <td>5 wickets</td>\n",
       "      <td>Odean Smith</td>\n",
       "      <td>Dr DY Patil Sports Academy</td>\n",
       "    </tr>\n",
       "    <tr>\n",
       "      <th>3</th>\n",
       "      <td>Lucknow Super Giants</td>\n",
       "      <td>Gujarat Titans</td>\n",
       "      <td>158.0</td>\n",
       "      <td>161.0</td>\n",
       "      <td>Gujarat Titans</td>\n",
       "      <td>Field</td>\n",
       "      <td>GT</td>\n",
       "      <td>5 wickets</td>\n",
       "      <td>Mohammed Shami</td>\n",
       "      <td>Wankhede Stadium</td>\n",
       "    </tr>\n",
       "    <tr>\n",
       "      <th>4</th>\n",
       "      <td>Rajasthan Royals</td>\n",
       "      <td>Sunrisers Hyderabad</td>\n",
       "      <td>210.0</td>\n",
       "      <td>149.0</td>\n",
       "      <td>Sunrisers Hyderabad</td>\n",
       "      <td>Field</td>\n",
       "      <td>RR</td>\n",
       "      <td>61 runs</td>\n",
       "      <td>Sanju Samson</td>\n",
       "      <td>Maharashtra Cricket Association Stadium</td>\n",
       "    </tr>\n",
       "    <tr>\n",
       "      <th>...</th>\n",
       "      <td>...</td>\n",
       "      <td>...</td>\n",
       "      <td>...</td>\n",
       "      <td>...</td>\n",
       "      <td>...</td>\n",
       "      <td>...</td>\n",
       "      <td>...</td>\n",
       "      <td>...</td>\n",
       "      <td>...</td>\n",
       "      <td>...</td>\n",
       "    </tr>\n",
       "    <tr>\n",
       "      <th>952</th>\n",
       "      <td>Sunrisers Hyderabad</td>\n",
       "      <td>Chennai Super Kings</td>\n",
       "      <td>147.0</td>\n",
       "      <td>148.0</td>\n",
       "      <td>Sunrisers Hyderabad</td>\n",
       "      <td>Bat</td>\n",
       "      <td>CSK</td>\n",
       "      <td>7 wickets</td>\n",
       "      <td>Suresh Raina</td>\n",
       "      <td>Rajiv Gandhi International Stadium</td>\n",
       "    </tr>\n",
       "    <tr>\n",
       "      <th>954</th>\n",
       "      <td>Punjab Kings</td>\n",
       "      <td>Rajasthan Royals</td>\n",
       "      <td>221.0</td>\n",
       "      <td>180.0</td>\n",
       "      <td>Rajasthan Royals</td>\n",
       "      <td>Field</td>\n",
       "      <td>PBKS</td>\n",
       "      <td>41 runs</td>\n",
       "      <td>Shaun Marsh</td>\n",
       "      <td>Punjab Cricket Association Stadium</td>\n",
       "    </tr>\n",
       "    <tr>\n",
       "      <th>955</th>\n",
       "      <td>Rajasthan Royals</td>\n",
       "      <td>Delhi Capitals</td>\n",
       "      <td>192.0</td>\n",
       "      <td>87.0</td>\n",
       "      <td>Delhi Capitals</td>\n",
       "      <td>Field</td>\n",
       "      <td>RR</td>\n",
       "      <td>105 runs</td>\n",
       "      <td>Shane Watson</td>\n",
       "      <td>Wankhede Stadium</td>\n",
       "    </tr>\n",
       "    <tr>\n",
       "      <th>956</th>\n",
       "      <td>Punjab Kings</td>\n",
       "      <td>Chennai Super Kings</td>\n",
       "      <td>112.0</td>\n",
       "      <td>116.0</td>\n",
       "      <td>Punjab Kings</td>\n",
       "      <td>Bat</td>\n",
       "      <td>CSK</td>\n",
       "      <td>9 wickets</td>\n",
       "      <td>Makhaya Ntini</td>\n",
       "      <td>Wankhede Stadium</td>\n",
       "    </tr>\n",
       "    <tr>\n",
       "      <th>957</th>\n",
       "      <td>Chennai Super Kings</td>\n",
       "      <td>Rajasthan Royals</td>\n",
       "      <td>163.0</td>\n",
       "      <td>164.0</td>\n",
       "      <td>Rajasthan Royals</td>\n",
       "      <td>Field</td>\n",
       "      <td>RR</td>\n",
       "      <td>3 wickets</td>\n",
       "      <td>Yusuf Pathan</td>\n",
       "      <td>Dr DY Patil Sports Academy</td>\n",
       "    </tr>\n",
       "  </tbody>\n",
       "</table>\n",
       "<p>930 rows × 10 columns</p>\n",
       "</div>"
      ],
      "text/plain": [
       "                           team1                  team2  team1_score  \\\n",
       "0            Chennai Super Kings  Kolkata Knight Riders        131.0   \n",
       "1                 Mumbai Indians         Delhi Capitals        177.0   \n",
       "2    Royal Challengers Bangalore           Punjab Kings        205.0   \n",
       "3           Lucknow Super Giants         Gujarat Titans        158.0   \n",
       "4               Rajasthan Royals    Sunrisers Hyderabad        210.0   \n",
       "..                           ...                    ...          ...   \n",
       "952          Sunrisers Hyderabad    Chennai Super Kings        147.0   \n",
       "954                 Punjab Kings       Rajasthan Royals        221.0   \n",
       "955             Rajasthan Royals         Delhi Capitals        192.0   \n",
       "956                 Punjab Kings    Chennai Super Kings        112.0   \n",
       "957          Chennai Super Kings       Rajasthan Royals        163.0   \n",
       "\n",
       "     team2_score            toss_winner toss_choice winner     margin  \\\n",
       "0          133.0  Kolkata Knight Riders       Field    KKR  6 wickets   \n",
       "1          179.0         Delhi Capitals       Field     DC  4 wickets   \n",
       "2          208.0           Punjab Kings       Field   PBKS  5 wickets   \n",
       "3          161.0         Gujarat Titans       Field     GT  5 wickets   \n",
       "4          149.0    Sunrisers Hyderabad       Field     RR    61 runs   \n",
       "..           ...                    ...         ...    ...        ...   \n",
       "952        148.0    Sunrisers Hyderabad         Bat    CSK  7 wickets   \n",
       "954        180.0       Rajasthan Royals       Field   PBKS    41 runs   \n",
       "955         87.0         Delhi Capitals       Field     RR   105 runs   \n",
       "956        116.0           Punjab Kings         Bat    CSK  9 wickets   \n",
       "957        164.0       Rajasthan Royals       Field     RR  3 wickets   \n",
       "\n",
       "    man_of_the_match                                  stadium  \n",
       "0        Umesh Yadav                         Wankhede Stadium  \n",
       "1      Kuldeep Yadav                        Brabourne Stadium  \n",
       "2        Odean Smith               Dr DY Patil Sports Academy  \n",
       "3     Mohammed Shami                         Wankhede Stadium  \n",
       "4       Sanju Samson  Maharashtra Cricket Association Stadium  \n",
       "..               ...                                      ...  \n",
       "952     Suresh Raina       Rajiv Gandhi International Stadium  \n",
       "954      Shaun Marsh       Punjab Cricket Association Stadium  \n",
       "955     Shane Watson                         Wankhede Stadium  \n",
       "956    Makhaya Ntini                         Wankhede Stadium  \n",
       "957     Yusuf Pathan               Dr DY Patil Sports Academy  \n",
       "\n",
       "[930 rows x 10 columns]"
      ]
     },
     "execution_count": 24,
     "metadata": {},
     "output_type": "execute_result"
    }
   ],
   "source": [
    "df"
   ]
  },
  {
   "cell_type": "code",
   "execution_count": 25,
   "id": "3d0c717a",
   "metadata": {
    "execution": {
     "iopub.execute_input": "2023-05-08T12:46:22.629594Z",
     "iopub.status.busy": "2023-05-08T12:46:22.628794Z",
     "iopub.status.idle": "2023-05-08T12:46:22.643483Z",
     "shell.execute_reply": "2023-05-08T12:46:22.642602Z"
    },
    "papermill": {
     "duration": 0.030338,
     "end_time": "2023-05-08T12:46:22.645630",
     "exception": false,
     "start_time": "2023-05-08T12:46:22.615292",
     "status": "completed"
    },
    "tags": []
   },
   "outputs": [
    {
     "data": {
      "text/html": [
       "<div>\n",
       "<style scoped>\n",
       "    .dataframe tbody tr th:only-of-type {\n",
       "        vertical-align: middle;\n",
       "    }\n",
       "\n",
       "    .dataframe tbody tr th {\n",
       "        vertical-align: top;\n",
       "    }\n",
       "\n",
       "    .dataframe thead th {\n",
       "        text-align: right;\n",
       "    }\n",
       "</style>\n",
       "<table border=\"1\" class=\"dataframe\">\n",
       "  <thead>\n",
       "    <tr style=\"text-align: right;\">\n",
       "      <th></th>\n",
       "      <th>team1</th>\n",
       "      <th>team2</th>\n",
       "      <th>toss_winner</th>\n",
       "      <th>toss_choice</th>\n",
       "      <th>margin</th>\n",
       "    </tr>\n",
       "  </thead>\n",
       "  <tbody>\n",
       "    <tr>\n",
       "      <th>0</th>\n",
       "      <td>Chennai Super Kings</td>\n",
       "      <td>Kolkata Knight Riders</td>\n",
       "      <td>Kolkata Knight Riders</td>\n",
       "      <td>Field</td>\n",
       "      <td>6 wickets</td>\n",
       "    </tr>\n",
       "    <tr>\n",
       "      <th>1</th>\n",
       "      <td>Mumbai Indians</td>\n",
       "      <td>Delhi Capitals</td>\n",
       "      <td>Delhi Capitals</td>\n",
       "      <td>Field</td>\n",
       "      <td>4 wickets</td>\n",
       "    </tr>\n",
       "    <tr>\n",
       "      <th>2</th>\n",
       "      <td>Royal Challengers Bangalore</td>\n",
       "      <td>Punjab Kings</td>\n",
       "      <td>Punjab Kings</td>\n",
       "      <td>Field</td>\n",
       "      <td>5 wickets</td>\n",
       "    </tr>\n",
       "    <tr>\n",
       "      <th>3</th>\n",
       "      <td>Lucknow Super Giants</td>\n",
       "      <td>Gujarat Titans</td>\n",
       "      <td>Gujarat Titans</td>\n",
       "      <td>Field</td>\n",
       "      <td>5 wickets</td>\n",
       "    </tr>\n",
       "    <tr>\n",
       "      <th>4</th>\n",
       "      <td>Rajasthan Royals</td>\n",
       "      <td>Sunrisers Hyderabad</td>\n",
       "      <td>Sunrisers Hyderabad</td>\n",
       "      <td>Field</td>\n",
       "      <td>61 runs</td>\n",
       "    </tr>\n",
       "    <tr>\n",
       "      <th>...</th>\n",
       "      <td>...</td>\n",
       "      <td>...</td>\n",
       "      <td>...</td>\n",
       "      <td>...</td>\n",
       "      <td>...</td>\n",
       "    </tr>\n",
       "    <tr>\n",
       "      <th>952</th>\n",
       "      <td>Sunrisers Hyderabad</td>\n",
       "      <td>Chennai Super Kings</td>\n",
       "      <td>Sunrisers Hyderabad</td>\n",
       "      <td>Bat</td>\n",
       "      <td>7 wickets</td>\n",
       "    </tr>\n",
       "    <tr>\n",
       "      <th>954</th>\n",
       "      <td>Punjab Kings</td>\n",
       "      <td>Rajasthan Royals</td>\n",
       "      <td>Rajasthan Royals</td>\n",
       "      <td>Field</td>\n",
       "      <td>41 runs</td>\n",
       "    </tr>\n",
       "    <tr>\n",
       "      <th>955</th>\n",
       "      <td>Rajasthan Royals</td>\n",
       "      <td>Delhi Capitals</td>\n",
       "      <td>Delhi Capitals</td>\n",
       "      <td>Field</td>\n",
       "      <td>105 runs</td>\n",
       "    </tr>\n",
       "    <tr>\n",
       "      <th>956</th>\n",
       "      <td>Punjab Kings</td>\n",
       "      <td>Chennai Super Kings</td>\n",
       "      <td>Punjab Kings</td>\n",
       "      <td>Bat</td>\n",
       "      <td>9 wickets</td>\n",
       "    </tr>\n",
       "    <tr>\n",
       "      <th>957</th>\n",
       "      <td>Chennai Super Kings</td>\n",
       "      <td>Rajasthan Royals</td>\n",
       "      <td>Rajasthan Royals</td>\n",
       "      <td>Field</td>\n",
       "      <td>3 wickets</td>\n",
       "    </tr>\n",
       "  </tbody>\n",
       "</table>\n",
       "<p>930 rows × 5 columns</p>\n",
       "</div>"
      ],
      "text/plain": [
       "                           team1                  team2  \\\n",
       "0            Chennai Super Kings  Kolkata Knight Riders   \n",
       "1                 Mumbai Indians         Delhi Capitals   \n",
       "2    Royal Challengers Bangalore           Punjab Kings   \n",
       "3           Lucknow Super Giants         Gujarat Titans   \n",
       "4               Rajasthan Royals    Sunrisers Hyderabad   \n",
       "..                           ...                    ...   \n",
       "952          Sunrisers Hyderabad    Chennai Super Kings   \n",
       "954                 Punjab Kings       Rajasthan Royals   \n",
       "955             Rajasthan Royals         Delhi Capitals   \n",
       "956                 Punjab Kings    Chennai Super Kings   \n",
       "957          Chennai Super Kings       Rajasthan Royals   \n",
       "\n",
       "               toss_winner toss_choice     margin  \n",
       "0    Kolkata Knight Riders       Field  6 wickets  \n",
       "1           Delhi Capitals       Field  4 wickets  \n",
       "2             Punjab Kings       Field  5 wickets  \n",
       "3           Gujarat Titans       Field  5 wickets  \n",
       "4      Sunrisers Hyderabad       Field    61 runs  \n",
       "..                     ...         ...        ...  \n",
       "952    Sunrisers Hyderabad         Bat  7 wickets  \n",
       "954       Rajasthan Royals       Field    41 runs  \n",
       "955         Delhi Capitals       Field   105 runs  \n",
       "956           Punjab Kings         Bat  9 wickets  \n",
       "957       Rajasthan Royals       Field  3 wickets  \n",
       "\n",
       "[930 rows x 5 columns]"
      ]
     },
     "execution_count": 25,
     "metadata": {},
     "output_type": "execute_result"
    }
   ],
   "source": [
    "x= df.drop(['team1_score','team2_score','man_of_the_match','stadium','winner'],axis=1)\n",
    "x"
   ]
  },
  {
   "cell_type": "code",
   "execution_count": 26,
   "id": "a4f77b99",
   "metadata": {
    "execution": {
     "iopub.execute_input": "2023-05-08T12:46:22.670866Z",
     "iopub.status.busy": "2023-05-08T12:46:22.670523Z",
     "iopub.status.idle": "2023-05-08T12:46:22.682311Z",
     "shell.execute_reply": "2023-05-08T12:46:22.681342Z"
    },
    "papermill": {
     "duration": 0.026913,
     "end_time": "2023-05-08T12:46:22.684533",
     "exception": false,
     "start_time": "2023-05-08T12:46:22.657620",
     "status": "completed"
    },
    "tags": []
   },
   "outputs": [],
   "source": [
    "x = pd.get_dummies(x, [\"team1\",\"team2\", \"toss_winner\", \"toss_choice\", \"result\"], drop_first = True)"
   ]
  },
  {
   "cell_type": "code",
   "execution_count": 27,
   "id": "d3ff18b4",
   "metadata": {
    "execution": {
     "iopub.execute_input": "2023-05-08T12:46:22.712214Z",
     "iopub.status.busy": "2023-05-08T12:46:22.711799Z",
     "iopub.status.idle": "2023-05-08T12:46:22.720573Z",
     "shell.execute_reply": "2023-05-08T12:46:22.719527Z"
    },
    "papermill": {
     "duration": 0.025066,
     "end_time": "2023-05-08T12:46:22.722667",
     "exception": false,
     "start_time": "2023-05-08T12:46:22.697601",
     "status": "completed"
    },
    "tags": []
   },
   "outputs": [
    {
     "data": {
      "text/plain": [
       "0       KKR\n",
       "1        DC\n",
       "2      PBKS\n",
       "3        GT\n",
       "4        RR\n",
       "       ... \n",
       "952     CSK\n",
       "954    PBKS\n",
       "955      RR\n",
       "956     CSK\n",
       "957      RR\n",
       "Name: winner, Length: 930, dtype: object"
      ]
     },
     "execution_count": 27,
     "metadata": {},
     "output_type": "execute_result"
    }
   ],
   "source": [
    "y = df[\"winner\"]\n",
    "y"
   ]
  },
  {
   "cell_type": "code",
   "execution_count": 28,
   "id": "f50fa5ab",
   "metadata": {
    "execution": {
     "iopub.execute_input": "2023-05-08T12:46:22.750995Z",
     "iopub.status.busy": "2023-05-08T12:46:22.750254Z",
     "iopub.status.idle": "2023-05-08T12:46:22.888887Z",
     "shell.execute_reply": "2023-05-08T12:46:22.888000Z"
    },
    "papermill": {
     "duration": 0.155325,
     "end_time": "2023-05-08T12:46:22.891391",
     "exception": false,
     "start_time": "2023-05-08T12:46:22.736066",
     "status": "completed"
    },
    "tags": []
   },
   "outputs": [],
   "source": [
    "from sklearn.preprocessing import LabelEncoder\n",
    "le = LabelEncoder()\n",
    "y = le.fit_transform(y)"
   ]
  },
  {
   "cell_type": "code",
   "execution_count": 29,
   "id": "f8237459",
   "metadata": {
    "execution": {
     "iopub.execute_input": "2023-05-08T12:46:22.925658Z",
     "iopub.status.busy": "2023-05-08T12:46:22.925304Z",
     "iopub.status.idle": "2023-05-08T12:46:23.022195Z",
     "shell.execute_reply": "2023-05-08T12:46:23.021161Z"
    },
    "papermill": {
     "duration": 0.120017,
     "end_time": "2023-05-08T12:46:23.024768",
     "exception": false,
     "start_time": "2023-05-08T12:46:22.904751",
     "status": "completed"
    },
    "tags": []
   },
   "outputs": [],
   "source": [
    "from sklearn.model_selection import train_test_split\n",
    "x_train, x_test, y_train, y_test = train_test_split(x, y, train_size = 0.8)"
   ]
  },
  {
   "cell_type": "markdown",
   "id": "89cc22c2",
   "metadata": {
    "papermill": {
     "duration": 0.012153,
     "end_time": "2023-05-08T12:46:23.049777",
     "exception": false,
     "start_time": "2023-05-08T12:46:23.037624",
     "status": "completed"
    },
    "tags": []
   },
   "source": [
    "# Model training:"
   ]
  },
  {
   "cell_type": "code",
   "execution_count": 30,
   "id": "155b59b3",
   "metadata": {
    "execution": {
     "iopub.execute_input": "2023-05-08T12:46:23.076384Z",
     "iopub.status.busy": "2023-05-08T12:46:23.075999Z",
     "iopub.status.idle": "2023-05-08T12:46:23.397852Z",
     "shell.execute_reply": "2023-05-08T12:46:23.397047Z"
    },
    "papermill": {
     "duration": 0.337693,
     "end_time": "2023-05-08T12:46:23.399882",
     "exception": false,
     "start_time": "2023-05-08T12:46:23.062189",
     "status": "completed"
    },
    "tags": []
   },
   "outputs": [
    {
     "data": {
      "text/html": [
       "<style>#sk-container-id-1 {color: black;background-color: white;}#sk-container-id-1 pre{padding: 0;}#sk-container-id-1 div.sk-toggleable {background-color: white;}#sk-container-id-1 label.sk-toggleable__label {cursor: pointer;display: block;width: 100%;margin-bottom: 0;padding: 0.3em;box-sizing: border-box;text-align: center;}#sk-container-id-1 label.sk-toggleable__label-arrow:before {content: \"▸\";float: left;margin-right: 0.25em;color: #696969;}#sk-container-id-1 label.sk-toggleable__label-arrow:hover:before {color: black;}#sk-container-id-1 div.sk-estimator:hover label.sk-toggleable__label-arrow:before {color: black;}#sk-container-id-1 div.sk-toggleable__content {max-height: 0;max-width: 0;overflow: hidden;text-align: left;background-color: #f0f8ff;}#sk-container-id-1 div.sk-toggleable__content pre {margin: 0.2em;color: black;border-radius: 0.25em;background-color: #f0f8ff;}#sk-container-id-1 input.sk-toggleable__control:checked~div.sk-toggleable__content {max-height: 200px;max-width: 100%;overflow: auto;}#sk-container-id-1 input.sk-toggleable__control:checked~label.sk-toggleable__label-arrow:before {content: \"▾\";}#sk-container-id-1 div.sk-estimator input.sk-toggleable__control:checked~label.sk-toggleable__label {background-color: #d4ebff;}#sk-container-id-1 div.sk-label input.sk-toggleable__control:checked~label.sk-toggleable__label {background-color: #d4ebff;}#sk-container-id-1 input.sk-hidden--visually {border: 0;clip: rect(1px 1px 1px 1px);clip: rect(1px, 1px, 1px, 1px);height: 1px;margin: -1px;overflow: hidden;padding: 0;position: absolute;width: 1px;}#sk-container-id-1 div.sk-estimator {font-family: monospace;background-color: #f0f8ff;border: 1px dotted black;border-radius: 0.25em;box-sizing: border-box;margin-bottom: 0.5em;}#sk-container-id-1 div.sk-estimator:hover {background-color: #d4ebff;}#sk-container-id-1 div.sk-parallel-item::after {content: \"\";width: 100%;border-bottom: 1px solid gray;flex-grow: 1;}#sk-container-id-1 div.sk-label:hover label.sk-toggleable__label {background-color: #d4ebff;}#sk-container-id-1 div.sk-serial::before {content: \"\";position: absolute;border-left: 1px solid gray;box-sizing: border-box;top: 0;bottom: 0;left: 50%;z-index: 0;}#sk-container-id-1 div.sk-serial {display: flex;flex-direction: column;align-items: center;background-color: white;padding-right: 0.2em;padding-left: 0.2em;position: relative;}#sk-container-id-1 div.sk-item {position: relative;z-index: 1;}#sk-container-id-1 div.sk-parallel {display: flex;align-items: stretch;justify-content: center;background-color: white;position: relative;}#sk-container-id-1 div.sk-item::before, #sk-container-id-1 div.sk-parallel-item::before {content: \"\";position: absolute;border-left: 1px solid gray;box-sizing: border-box;top: 0;bottom: 0;left: 50%;z-index: -1;}#sk-container-id-1 div.sk-parallel-item {display: flex;flex-direction: column;z-index: 1;position: relative;background-color: white;}#sk-container-id-1 div.sk-parallel-item:first-child::after {align-self: flex-end;width: 50%;}#sk-container-id-1 div.sk-parallel-item:last-child::after {align-self: flex-start;width: 50%;}#sk-container-id-1 div.sk-parallel-item:only-child::after {width: 0;}#sk-container-id-1 div.sk-dashed-wrapped {border: 1px dashed gray;margin: 0 0.4em 0.5em 0.4em;box-sizing: border-box;padding-bottom: 0.4em;background-color: white;}#sk-container-id-1 div.sk-label label {font-family: monospace;font-weight: bold;display: inline-block;line-height: 1.2em;}#sk-container-id-1 div.sk-label-container {text-align: center;}#sk-container-id-1 div.sk-container {/* jupyter's `normalize.less` sets `[hidden] { display: none; }` but bootstrap.min.css set `[hidden] { display: none !important; }` so we also need the `!important` here to be able to override the default hidden behavior on the sphinx rendered scikit-learn.org. See: https://github.com/scikit-learn/scikit-learn/issues/21755 */display: inline-block !important;position: relative;}#sk-container-id-1 div.sk-text-repr-fallback {display: none;}</style><div id=\"sk-container-id-1\" class=\"sk-top-container\"><div class=\"sk-text-repr-fallback\"><pre>RandomForestClassifier(max_features=&#x27;auto&#x27;, min_samples_split=3,\n",
       "                       n_estimators=200)</pre><b>In a Jupyter environment, please rerun this cell to show the HTML representation or trust the notebook. <br />On GitHub, the HTML representation is unable to render, please try loading this page with nbviewer.org.</b></div><div class=\"sk-container\" hidden><div class=\"sk-item\"><div class=\"sk-estimator sk-toggleable\"><input class=\"sk-toggleable__control sk-hidden--visually\" id=\"sk-estimator-id-1\" type=\"checkbox\" checked><label for=\"sk-estimator-id-1\" class=\"sk-toggleable__label sk-toggleable__label-arrow\">RandomForestClassifier</label><div class=\"sk-toggleable__content\"><pre>RandomForestClassifier(max_features=&#x27;auto&#x27;, min_samples_split=3,\n",
       "                       n_estimators=200)</pre></div></div></div></div></div>"
      ],
      "text/plain": [
       "RandomForestClassifier(max_features='auto', min_samples_split=3,\n",
       "                       n_estimators=200)"
      ]
     },
     "execution_count": 30,
     "metadata": {},
     "output_type": "execute_result"
    }
   ],
   "source": [
    "from sklearn.ensemble import RandomForestClassifier\n",
    "model = RandomForestClassifier(n_estimators=200,min_samples_split=3,max_features = \"auto\")\n",
    "model"
   ]
  },
  {
   "cell_type": "code",
   "execution_count": 31,
   "id": "62e65447",
   "metadata": {
    "execution": {
     "iopub.execute_input": "2023-05-08T12:46:23.427144Z",
     "iopub.status.busy": "2023-05-08T12:46:23.426806Z",
     "iopub.status.idle": "2023-05-08T12:46:24.041196Z",
     "shell.execute_reply": "2023-05-08T12:46:24.040112Z"
    },
    "papermill": {
     "duration": 0.630606,
     "end_time": "2023-05-08T12:46:24.043413",
     "exception": false,
     "start_time": "2023-05-08T12:46:23.412807",
     "status": "completed"
    },
    "tags": []
   },
   "outputs": [
    {
     "name": "stderr",
     "output_type": "stream",
     "text": [
      "/opt/conda/lib/python3.10/site-packages/sklearn/ensemble/_forest.py:424: FutureWarning: `max_features='auto'` has been deprecated in 1.1 and will be removed in 1.3. To keep the past behaviour, explicitly set `max_features='sqrt'` or remove this parameter as it is also the default value for RandomForestClassifiers and ExtraTreesClassifiers.\n",
      "  warn(\n"
     ]
    },
    {
     "data": {
      "text/html": [
       "<style>#sk-container-id-2 {color: black;background-color: white;}#sk-container-id-2 pre{padding: 0;}#sk-container-id-2 div.sk-toggleable {background-color: white;}#sk-container-id-2 label.sk-toggleable__label {cursor: pointer;display: block;width: 100%;margin-bottom: 0;padding: 0.3em;box-sizing: border-box;text-align: center;}#sk-container-id-2 label.sk-toggleable__label-arrow:before {content: \"▸\";float: left;margin-right: 0.25em;color: #696969;}#sk-container-id-2 label.sk-toggleable__label-arrow:hover:before {color: black;}#sk-container-id-2 div.sk-estimator:hover label.sk-toggleable__label-arrow:before {color: black;}#sk-container-id-2 div.sk-toggleable__content {max-height: 0;max-width: 0;overflow: hidden;text-align: left;background-color: #f0f8ff;}#sk-container-id-2 div.sk-toggleable__content pre {margin: 0.2em;color: black;border-radius: 0.25em;background-color: #f0f8ff;}#sk-container-id-2 input.sk-toggleable__control:checked~div.sk-toggleable__content {max-height: 200px;max-width: 100%;overflow: auto;}#sk-container-id-2 input.sk-toggleable__control:checked~label.sk-toggleable__label-arrow:before {content: \"▾\";}#sk-container-id-2 div.sk-estimator input.sk-toggleable__control:checked~label.sk-toggleable__label {background-color: #d4ebff;}#sk-container-id-2 div.sk-label input.sk-toggleable__control:checked~label.sk-toggleable__label {background-color: #d4ebff;}#sk-container-id-2 input.sk-hidden--visually {border: 0;clip: rect(1px 1px 1px 1px);clip: rect(1px, 1px, 1px, 1px);height: 1px;margin: -1px;overflow: hidden;padding: 0;position: absolute;width: 1px;}#sk-container-id-2 div.sk-estimator {font-family: monospace;background-color: #f0f8ff;border: 1px dotted black;border-radius: 0.25em;box-sizing: border-box;margin-bottom: 0.5em;}#sk-container-id-2 div.sk-estimator:hover {background-color: #d4ebff;}#sk-container-id-2 div.sk-parallel-item::after {content: \"\";width: 100%;border-bottom: 1px solid gray;flex-grow: 1;}#sk-container-id-2 div.sk-label:hover label.sk-toggleable__label {background-color: #d4ebff;}#sk-container-id-2 div.sk-serial::before {content: \"\";position: absolute;border-left: 1px solid gray;box-sizing: border-box;top: 0;bottom: 0;left: 50%;z-index: 0;}#sk-container-id-2 div.sk-serial {display: flex;flex-direction: column;align-items: center;background-color: white;padding-right: 0.2em;padding-left: 0.2em;position: relative;}#sk-container-id-2 div.sk-item {position: relative;z-index: 1;}#sk-container-id-2 div.sk-parallel {display: flex;align-items: stretch;justify-content: center;background-color: white;position: relative;}#sk-container-id-2 div.sk-item::before, #sk-container-id-2 div.sk-parallel-item::before {content: \"\";position: absolute;border-left: 1px solid gray;box-sizing: border-box;top: 0;bottom: 0;left: 50%;z-index: -1;}#sk-container-id-2 div.sk-parallel-item {display: flex;flex-direction: column;z-index: 1;position: relative;background-color: white;}#sk-container-id-2 div.sk-parallel-item:first-child::after {align-self: flex-end;width: 50%;}#sk-container-id-2 div.sk-parallel-item:last-child::after {align-self: flex-start;width: 50%;}#sk-container-id-2 div.sk-parallel-item:only-child::after {width: 0;}#sk-container-id-2 div.sk-dashed-wrapped {border: 1px dashed gray;margin: 0 0.4em 0.5em 0.4em;box-sizing: border-box;padding-bottom: 0.4em;background-color: white;}#sk-container-id-2 div.sk-label label {font-family: monospace;font-weight: bold;display: inline-block;line-height: 1.2em;}#sk-container-id-2 div.sk-label-container {text-align: center;}#sk-container-id-2 div.sk-container {/* jupyter's `normalize.less` sets `[hidden] { display: none; }` but bootstrap.min.css set `[hidden] { display: none !important; }` so we also need the `!important` here to be able to override the default hidden behavior on the sphinx rendered scikit-learn.org. See: https://github.com/scikit-learn/scikit-learn/issues/21755 */display: inline-block !important;position: relative;}#sk-container-id-2 div.sk-text-repr-fallback {display: none;}</style><div id=\"sk-container-id-2\" class=\"sk-top-container\"><div class=\"sk-text-repr-fallback\"><pre>RandomForestClassifier(max_features=&#x27;auto&#x27;, min_samples_split=3,\n",
       "                       n_estimators=200)</pre><b>In a Jupyter environment, please rerun this cell to show the HTML representation or trust the notebook. <br />On GitHub, the HTML representation is unable to render, please try loading this page with nbviewer.org.</b></div><div class=\"sk-container\" hidden><div class=\"sk-item\"><div class=\"sk-estimator sk-toggleable\"><input class=\"sk-toggleable__control sk-hidden--visually\" id=\"sk-estimator-id-2\" type=\"checkbox\" checked><label for=\"sk-estimator-id-2\" class=\"sk-toggleable__label sk-toggleable__label-arrow\">RandomForestClassifier</label><div class=\"sk-toggleable__content\"><pre>RandomForestClassifier(max_features=&#x27;auto&#x27;, min_samples_split=3,\n",
       "                       n_estimators=200)</pre></div></div></div></div></div>"
      ],
      "text/plain": [
       "RandomForestClassifier(max_features='auto', min_samples_split=3,\n",
       "                       n_estimators=200)"
      ]
     },
     "execution_count": 31,
     "metadata": {},
     "output_type": "execute_result"
    }
   ],
   "source": [
    "model.fit(x_train, y_train)"
   ]
  },
  {
   "cell_type": "code",
   "execution_count": 32,
   "id": "55910a6b",
   "metadata": {
    "execution": {
     "iopub.execute_input": "2023-05-08T12:46:24.072136Z",
     "iopub.status.busy": "2023-05-08T12:46:24.071450Z",
     "iopub.status.idle": "2023-05-08T12:46:24.112754Z",
     "shell.execute_reply": "2023-05-08T12:46:24.111885Z"
    },
    "papermill": {
     "duration": 0.0584,
     "end_time": "2023-05-08T12:46:24.115184",
     "exception": false,
     "start_time": "2023-05-08T12:46:24.056784",
     "status": "completed"
    },
    "tags": []
   },
   "outputs": [],
   "source": [
    "y_pred = model.predict(x_test)"
   ]
  },
  {
   "cell_type": "code",
   "execution_count": 33,
   "id": "910a2821",
   "metadata": {
    "execution": {
     "iopub.execute_input": "2023-05-08T12:46:24.144222Z",
     "iopub.status.busy": "2023-05-08T12:46:24.143550Z",
     "iopub.status.idle": "2023-05-08T12:46:24.151008Z",
     "shell.execute_reply": "2023-05-08T12:46:24.150201Z"
    },
    "papermill": {
     "duration": 0.024107,
     "end_time": "2023-05-08T12:46:24.153054",
     "exception": false,
     "start_time": "2023-05-08T12:46:24.128947",
     "status": "completed"
    },
    "tags": []
   },
   "outputs": [
    {
     "data": {
      "text/plain": [
       "0.5806451612903226"
      ]
     },
     "execution_count": 33,
     "metadata": {},
     "output_type": "execute_result"
    }
   ],
   "source": [
    "from sklearn.metrics import accuracy_score\n",
    "ac = accuracy_score(y_pred, y_test)\n",
    "ac"
   ]
  }
 ],
 "metadata": {
  "kernelspec": {
   "display_name": "Python 3",
   "language": "python",
   "name": "python3"
  },
  "language_info": {
   "codemirror_mode": {
    "name": "ipython",
    "version": 3
   },
   "file_extension": ".py",
   "mimetype": "text/x-python",
   "name": "python",
   "nbconvert_exporter": "python",
   "pygments_lexer": "ipython3",
   "version": "3.10.10"
  },
  "papermill": {
   "default_parameters": {},
   "duration": 14.300763,
   "end_time": "2023-05-08T12:46:25.087914",
   "environment_variables": {},
   "exception": null,
   "input_path": "__notebook__.ipynb",
   "output_path": "__notebook__.ipynb",
   "parameters": {},
   "start_time": "2023-05-08T12:46:10.787151",
   "version": "2.4.0"
  }
 },
 "nbformat": 4,
 "nbformat_minor": 5
}
